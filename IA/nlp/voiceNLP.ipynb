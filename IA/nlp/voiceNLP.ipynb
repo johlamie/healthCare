{
 "cells": [
  {
   "cell_type": "code",
   "execution_count": 2,
   "metadata": {},
   "outputs": [
    {
     "name": "stdout",
     "output_type": "stream",
     "text": [
      "Collecting gTTS\n",
      "  Downloading gTTS-2.2.2-py3-none-any.whl (25 kB)\n",
      "Requirement already satisfied: click in /home/lamien/miniconda3/envs/esgi/lib/python3.7/site-packages (from gTTS) (7.1.2)\n",
      "Requirement already satisfied: requests in /home/lamien/miniconda3/envs/esgi/lib/python3.7/site-packages (from gTTS) (2.24.0)\n",
      "Requirement already satisfied: six in /home/lamien/miniconda3/envs/esgi/lib/python3.7/site-packages (from gTTS) (1.15.0)\n",
      "Requirement already satisfied: certifi>=2017.4.17 in /home/lamien/miniconda3/envs/esgi/lib/python3.7/site-packages (from requests->gTTS) (2020.6.20)\n",
      "Requirement already satisfied: chardet<4,>=3.0.2 in /home/lamien/miniconda3/envs/esgi/lib/python3.7/site-packages (from requests->gTTS) (3.0.4)\n",
      "Requirement already satisfied: urllib3!=1.25.0,!=1.25.1,<1.26,>=1.21.1 in /home/lamien/miniconda3/envs/esgi/lib/python3.7/site-packages (from requests->gTTS) (1.25.11)\n",
      "Requirement already satisfied: idna<3,>=2.5 in /home/lamien/miniconda3/envs/esgi/lib/python3.7/site-packages (from requests->gTTS) (2.10)\n",
      "Installing collected packages: gTTS\n",
      "Successfully installed gTTS-2.2.2\n"
     ]
    }
   ],
   "source": [
    "!pip install gTTS"
   ]
  },
  {
   "cell_type": "code",
   "execution_count": 2,
   "metadata": {},
   "outputs": [],
   "source": [
    "from gtts import gTTS"
   ]
  },
  {
   "cell_type": "code",
   "execution_count": 3,
   "metadata": {},
   "outputs": [],
   "source": [
    "import os"
   ]
  },
  {
   "cell_type": "code",
   "execution_count": 17,
   "metadata": {},
   "outputs": [],
   "source": [
    "nomContactUrgence = \"Eddy\"\n",
    "nom = \"Lamien\"\n",
    "prenom = \"Doubalo\""
   ]
  },
  {
   "cell_type": "code",
   "execution_count": 23,
   "metadata": {},
   "outputs": [],
   "source": [
    "message = 'Hello '+urgenceContactName+', your loved ones '+name+' '+surname+ ' is currently undergoing a heart cryse, Please contact the health services and go immediately to the address sent by message.'\n",
    "messageFr = 'Bonjour '+urgenceContactName+', votre proches'+name+' '+surname+ ' subit actuellement une cryse cardiaque, Veuillez contacter les services de santé et vous rendre immédiatement à l\\'adresse envoyé par message.'"
   ]
  },
  {
   "cell_type": "code",
   "execution_count": 21,
   "metadata": {},
   "outputs": [],
   "source": [
    "language = 'en'\n",
    "languageFr = 'fr'"
   ]
  },
  {
   "cell_type": "code",
   "execution_count": 24,
   "metadata": {},
   "outputs": [],
   "source": [
    "en = gTTS(text=message, lang=language, slow=False)\n",
    "fr = gTTS(text=messageFr, lang=languageFr, slow=False)"
   ]
  },
  {
   "cell_type": "code",
   "execution_count": 25,
   "metadata": {},
   "outputs": [],
   "source": [
    "en.save(\"anglais.mp3\")\n",
    "fr.save(\"français.mp3\")"
   ]
  },
  {
   "cell_type": "code",
   "execution_count": 26,
   "metadata": {},
   "outputs": [
    {
     "data": {
      "text/plain": [
       "32512"
      ]
     },
     "execution_count": 26,
     "metadata": {},
     "output_type": "execute_result"
    }
   ],
   "source": [
    "os.system(\"mpg321 welcome.mp3\")"
   ]
  }
 ],
 "metadata": {
  "kernelspec": {
   "display_name": "Python 3",
   "language": "python",
   "name": "python3"
  },
  "language_info": {
   "codemirror_mode": {
    "name": "ipython",
    "version": 3
   },
   "file_extension": ".py",
   "mimetype": "text/x-python",
   "name": "python",
   "nbconvert_exporter": "python",
   "pygments_lexer": "ipython3",
   "version": "3.7.9"
  }
 },
 "nbformat": 4,
 "nbformat_minor": 4
}
